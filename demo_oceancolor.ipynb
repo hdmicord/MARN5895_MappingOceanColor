{
 "cells": [
  {
   "cell_type": "markdown",
   "id": "cff06a94-4e97-47e6-a24c-0289be9b7d1c",
   "metadata": {},
   "source": [
    "### 1. Import relevant packages"
   ]
  },
  {
   "cell_type": "code",
   "execution_count": 1,
   "id": "aa4da6c0-32e0-40b4-a5ce-b2dc1859ef5e",
   "metadata": {},
   "outputs": [],
   "source": [
    "import numpy as np\n",
    "import xarray as xr\n",
    "import matplotlib.pyplot as plt\n",
    "import matplotlib.colors as colors\n",
    "import cmocean as cmo\n",
    "\n",
    "# cartopy \n",
    "import cartopy.crs as ccrs       # ccrs contains information about projections\n",
    "import cartopy    \n",
    "import cartopy.feature as cfeature\n",
    "from cartopy.mpl.ticker import (LongitudeFormatter, LatitudeFormatter,\n",
    "                                LatitudeLocator)\n",
    "import matplotlib.ticker as mticker\n",
    "from cartopy.mpl.gridliner import LATITUDE_FORMATTER, LONGITUDE_FORMATTER"
   ]
  },
  {
   "cell_type": "markdown",
   "id": "19c00887-f44d-420e-a350-84705c8146f4",
   "metadata": {},
   "source": [
    "### 2. Construct the url where your data is located and define file names"
   ]
  },
  {
   "cell_type": "code",
   "execution_count": 2,
   "id": "e272e655-65b8-4aad-b13a-e48d73f9bab3",
   "metadata": {},
   "outputs": [],
   "source": [
    "base_url = 'https://oceandata.sci.gsfc.nasa.gov:443/opendap/MODISA/L3SMI/2021/' \n",
    "year_day = str(360)\n",
    "\n",
    "\n",
    "filename = 'A2021' + year_day + '.L3m_DAY_CHL_chlor_a_4km.nc' # change year/file of interest here\n",
    "\n",
    "url = base_url + year_day + '/' + filename"
   ]
  },
  {
   "cell_type": "code",
   "execution_count": 3,
   "id": "0b80bb50-c9d7-47eb-ab5d-bb67d1f3e8ef",
   "metadata": {},
   "outputs": [
    {
     "data": {
      "text/plain": [
       "'https://oceandata.sci.gsfc.nasa.gov:443/opendap/MODISA/L3SMI/2021/360/A2021360.L3m_DAY_CHL_chlor_a_4km.nc'"
      ]
     },
     "execution_count": 3,
     "metadata": {},
     "output_type": "execute_result"
    }
   ],
   "source": [
    "url"
   ]
  },
  {
   "cell_type": "markdown",
   "id": "630862e7-2efc-4045-b218-33315c735dc8",
   "metadata": {},
   "source": [
    "### 3. Use a for loop to plot multiple days of chlorophyll data and save them as .png files"
   ]
  },
  {
   "cell_type": "code",
   "execution_count": 8,
   "id": "738965c9-7020-4cfc-80bf-18871e367806",
   "metadata": {},
   "outputs": [
    {
     "name": "stdout",
     "output_type": "stream",
     "text": [
      "120\n",
      "121\n",
      "122\n",
      "123\n",
      "124\n",
      "125\n",
      "126\n",
      "127\n",
      "128\n",
      "129\n"
     ]
    }
   ],
   "source": [
    "for day in range(120,130):\n",
    "    year_day = str(day)\n",
    "\n",
    "    filename = 'A2021' + year_day + '.L3m_DAY_CHL_chlor_a_4km.nc'\n",
    "    time  = filename[1:5] + year_day\n",
    "    url = base_url + year_day + '/' + filename\n",
    "    modis = xr.open_dataset(url)\n",
    "    subset = modis.where((modis.lon>=-173.5)&(modis.lon<-147)& (modis.lat>=51)&(modis.lat<73), drop=True)\n",
    "    fig = plt.figure(figsize=(10,10))\n",
    "    regional_extent = [-173.5, -147, 51, 73]\n",
    "    ax = plt.axes(projection=ccrs.NorthPolarStereo(central_longitude=-160))\n",
    "    ax.set_extent(regional_extent)\n",
    "\n",
    "\n",
    "    ax.add_feature(cartopy.feature.LAND,edgecolor='black',zorder=1) \n",
    "    ax.add_feature(cartopy.feature.RIVERS,zorder=2)\n",
    "\n",
    "    states = cfeature.NaturalEarthFeature(category='cultural',\n",
    "                                          name='admin_1_states_provinces_lines',\n",
    "                                          scale='50m',\n",
    "                                          facecolor='none'\n",
    "    )\n",
    "    ax.add_feature(states, edgecolor='gray', zorder=3)\n",
    "\n",
    "    gl = ax.gridlines(crs=ccrs.PlateCarree(),\n",
    "                      draw_labels=True, \n",
    "                      dms=True, \n",
    "                      x_inline=False, \n",
    "                      y_inline=False\n",
    "    )\n",
    "    gl.xlocator = mticker.FixedLocator(np.arange(-180,-130,5))\n",
    "    gl.ylocator = mticker.FixedLocator(np.arange(50,75,5))\n",
    "    ax.xaxis.set_major_formatter(LONGITUDE_FORMATTER) \n",
    "    ax.yaxis.set_major_formatter(LATITUDE_FORMATTER)\n",
    "\n",
    "    # plots the chlorophyll files\n",
    "    im = subset.chlor_a.plot.pcolormesh(x='lon',\n",
    "                                        y='lat', \n",
    "                                        norm=colors.LogNorm(vmin=0.1,vmax=5),\n",
    "                                        cmap='Spectral_r',\n",
    "                                        transform=ccrs.PlateCarree(),\n",
    "    )\n",
    "    plt.title(time)\n",
    "    print(year_day)\n",
    "    figname = time + '.png'\n",
    "    fig.savefig('figures/'+figname, bbox_inches='tight', dpi=150) # saves figures in a different folder\n",
    "    plt.close()"
   ]
  },
  {
   "cell_type": "code",
   "execution_count": null,
   "id": "8debf23a-bbbf-4d3f-bab3-cb5cd173261e",
   "metadata": {},
   "outputs": [],
   "source": []
  },
  {
   "cell_type": "markdown",
   "id": "615d97e1-22a5-4a92-8ab1-a0a99ebcbb1b",
   "metadata": {},
   "source": [
    "### 4. Average time periods of interest\n",
    "Averaging over a period of time can be useful in several scenarios. Today we are using it to compare El Nino and La Nina events in LIS. However, it can also be useful to see the general range of chlorophyll concentrations in a particular area, especially if that area has poor coverage via satellites. "
   ]
  },
  {
   "cell_type": "markdown",
   "id": "5fe6bba8-3046-4ec9-9f0f-95f205ab501c",
   "metadata": {},
   "source": [
    "### 5. Optional: create a .gif for a period of time \n",
    "1. Open a terminal and go to the directory where your .png chlorophyll map files are. \n",
    "2. Copy and run the following line of code:"
   ]
  },
  {
   "cell_type": "code",
   "execution_count": null,
   "id": "6bbfba39-c3b6-4d65-8a3a-b194289282be",
   "metadata": {},
   "outputs": [],
   "source": [
    "convert -delay 50 -loop 0 *.png animation.gif\n",
    "#Note: the number after delay determines how much time elapses between figures, and you can change the name of your .gif file. "
   ]
  },
  {
   "cell_type": "markdown",
   "id": "0ed48103-d201-436f-84f4-b950bc47e1af",
   "metadata": {},
   "source": [
    "3. Open the .gif file in Jupyterlab to view it. \n",
    "4. Optional: go to https://cloudconvert.com/ to convert your .gif file into another type of video file, such as .mp4"
   ]
  },
  {
   "cell_type": "code",
   "execution_count": null,
   "id": "845efa58-379f-4aa2-83eb-b61b547633e6",
   "metadata": {},
   "outputs": [],
   "source": []
  }
 ],
 "metadata": {
  "kernelspec": {
   "display_name": "Python 3 (ipykernel)",
   "language": "python",
   "name": "python3"
  },
  "language_info": {
   "codemirror_mode": {
    "name": "ipython",
    "version": 3
   },
   "file_extension": ".py",
   "mimetype": "text/x-python",
   "name": "python",
   "nbconvert_exporter": "python",
   "pygments_lexer": "ipython3",
   "version": "3.9.6"
  }
 },
 "nbformat": 4,
 "nbformat_minor": 5
}
